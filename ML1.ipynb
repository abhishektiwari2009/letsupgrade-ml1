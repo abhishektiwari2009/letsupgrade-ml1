import numpy as np
b = np.zeros((3,5))
print(b)
c = np.random.random((3,6))
print(c)
d = np.random.randint(10,50,(3,5))
print(d)
print(d[1:,2:])

#zeros
c = np.array([(1,5),(7,8)], dtype=int)
print(c)
c.shape
print(c[0:,:2])
b = np.zeros((3,5))
print(b)

#ones of array
b =np.ones((4,5))
print(b)

#identity matrix

z = np.eye(3)
print(z)

# array full of 100
y = np.full((4,5),100)
print(y)


np_array = np.array([1,2,3,4,5])
np_array[np_array<5]
